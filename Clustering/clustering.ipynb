{
 "cells": [
  {
   "cell_type": "code",
   "execution_count": 1,
   "id": "2d5b5347-2bca-476a-b88d-c83281bc1041",
   "metadata": {},
   "outputs": [],
   "source": [
    "import cv2 as cv \n",
    "import glob\n",
    "import numpy as np \n",
    "import pandas as pd \n",
    "import seaborn as sns \n",
    "import matplotlib.pyplot as plt \n",
    "from sklearn.cluster import KMeans"
   ]
  },
  {
   "cell_type": "code",
   "execution_count": 2,
   "id": "1ac7889e",
   "metadata": {},
   "outputs": [],
   "source": [
    "class algo:\n",
    "    def __init__(self):\n",
    "        self.animalImages = []\n",
    "        self.vectorImages = []\n",
    "        self.train = []\n",
    "        self.test= []\n",
    "        self.model = 0\n",
    "        self.path = 'E:/progamming/Machine learning/internship/Clustering/animals/*.jpg'\n",
    "        \n",
    "    def readImages(self):\n",
    "        temp = glob.glob(self.path)\n",
    "        for image in temp:\n",
    "            temp2 = cv.imread(image)\n",
    "            self.animalImages.append(temp2)\n",
    "            \n",
    "        print(\"Read \", len(self.animalImages), \" images\")\n",
    "    \n",
    "    def display(self):\n",
    "        for idx, image in enumerate(self.animalImages):\n",
    "            cv.imshow(f'Image {idx}', image)\n",
    "            cv.waitKey(0)\n",
    "        cv.destroyAllWindows()\n",
    "       \n",
    "    def resizeImages(self):\n",
    "        resizedImages = []\n",
    "        for image in self.animalImages:\n",
    "            resize = cv.resize(image, (128, 128), interpolation=cv.INTER_AREA)\n",
    "            resizedImages.append(resize)\n",
    "           \n",
    "        self.animalImages = resizedImages \n",
    "        print(\"Resized all images\")\n",
    "    \n",
    "    def flattenImages(self):\n",
    "        for image in self.animalImages:\n",
    "            array = np.array(image)\n",
    "            vector = array.flatten()\n",
    "            self.vectorImages.append(vector)\n",
    "            \n",
    "            #print(\"Original shape:\", array.shape)\n",
    "            #print(\"Flattened shape:\", vector.shape)\n",
    "    \n",
    "    def normalizePixels(self):\n",
    "        normal = []\n",
    "        for image in self.vectorImages:\n",
    "            norm = image / 255\n",
    "            normal.append(norm)\n",
    "            \n",
    "        self.vectorImages = normal\n",
    "        \n",
    "    def splitData(self):\n",
    "        self.train = np.concatenate((self.vectorImages[0:10], self.vectorImages[15:25]), axis=0)\n",
    "        self.test = np.concatenate((self.vectorImages[10:15], self.vectorImages[25:30]), axis=0)\n",
    "        \n",
    "        self.train = np.array(self.train)\n",
    "        self.test = np.array(self.test)\n",
    "        \n",
    "        np.random.seed(42)\n",
    "        np.random.shuffle(self.train)\n",
    "        np.random.shuffle(self.test)\n",
    "        \n",
    "        print(len(self.train))\n",
    "        print(len(self.test))\n",
    "        \n",
    "    def training(self):\n",
    "        self.model = KMeans(n_clusters=2, random_state=24, n_init='auto')\n",
    "        self.model.fit(self.train)\n",
    "        \n",
    "        print(\"Cluster Assignment: \", self.model.labels_)\n",
    "        print(\"Cluster Centroids are: \", self.model.cluster_centers_)\n",
    "        \n",
    "    def testing(self):\n",
    "        print(\"Testing prediction: \", self.model.predict(self.test))\n",
    "        \n",
    "    "
   ]
  },
  {
   "cell_type": "code",
   "execution_count": 3,
   "id": "b2526c9b",
   "metadata": {},
   "outputs": [
    {
     "name": "stdout",
     "output_type": "stream",
     "text": [
      "Read  30  images\n"
     ]
    }
   ],
   "source": [
    "clustering = algo()\n",
    "clustering.readImages()"
   ]
  },
  {
   "cell_type": "code",
   "execution_count": 4,
   "id": "115cb353",
   "metadata": {},
   "outputs": [
    {
     "name": "stdout",
     "output_type": "stream",
     "text": [
      "Resized all images\n"
     ]
    }
   ],
   "source": [
    "clustering.resizeImages()\n",
    "#clustering.display()"
   ]
  },
  {
   "cell_type": "code",
   "execution_count": 5,
   "id": "13500d11",
   "metadata": {},
   "outputs": [],
   "source": [
    "clustering.flattenImages()\n",
    "clustering.normalizePixels()"
   ]
  },
  {
   "cell_type": "code",
   "execution_count": 6,
   "id": "0ac7f866",
   "metadata": {},
   "outputs": [
    {
     "name": "stdout",
     "output_type": "stream",
     "text": [
      "20\n",
      "10\n"
     ]
    }
   ],
   "source": [
    "clustering.splitData()"
   ]
  },
  {
   "cell_type": "code",
   "execution_count": 7,
   "id": "02022057",
   "metadata": {},
   "outputs": [
    {
     "name": "stdout",
     "output_type": "stream",
     "text": [
      "Cluster Assignment:  [1 0 0 1 1 0 0 1 0 0 0 0 1 1 1 0 0 1 1 0]\n",
      "Cluster Centroids are:  [[0.43386809 0.45062389 0.44171123 ... 0.20249554 0.27201426 0.32442068]\n",
      " [0.68017429 0.67755991 0.64923747 ... 0.56339869 0.59912854 0.60958606]]\n"
     ]
    }
   ],
   "source": [
    "clustering.training()"
   ]
  },
  {
   "cell_type": "code",
   "execution_count": 8,
   "id": "1402f886",
   "metadata": {},
   "outputs": [
    {
     "name": "stdout",
     "output_type": "stream",
     "text": [
      "Testing prediction:  [0 1 1 0 0 0 0 0 0 0]\n"
     ]
    }
   ],
   "source": [
    "clustering.testing()"
   ]
  }
 ],
 "metadata": {
  "kernelspec": {
   "display_name": "Python 3 (ipykernel)",
   "language": "python",
   "name": "python3"
  },
  "language_info": {
   "codemirror_mode": {
    "name": "ipython",
    "version": 3
   },
   "file_extension": ".py",
   "mimetype": "text/x-python",
   "name": "python",
   "nbconvert_exporter": "python",
   "pygments_lexer": "ipython3",
   "version": "3.12.3"
  }
 },
 "nbformat": 4,
 "nbformat_minor": 5
}
