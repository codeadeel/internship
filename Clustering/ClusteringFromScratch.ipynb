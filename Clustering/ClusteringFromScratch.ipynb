{
 "cells": [
  {
   "cell_type": "code",
   "execution_count": 165,
   "metadata": {},
   "outputs": [],
   "source": [
    "import cv2 as cv \n",
    "import glob\n",
    "import os\n",
    "import numpy as np \n",
    "import pandas as pd \n",
    "import seaborn as sns \n",
    "import matplotlib.pyplot as plt "
   ]
  },
  {
   "cell_type": "code",
   "execution_count": 166,
   "metadata": {},
   "outputs": [],
   "source": [
    "class animals:\n",
    "    def __init__(self, loc, type):\n",
    "        self.animalImage = None\n",
    "        self.vectored = None\n",
    "        self.loc = loc\n",
    "        self.type = type\n",
    "        self.clusterAssign = None\n",
    "        self.centroidVal = None\n",
    "        \n",
    "    def readImages(self):\n",
    "        self.animalImage = cv.imread(self.loc)\n",
    "        if self.animalImage is None:\n",
    "            raise ValueError(f\"Image at {self.loc} could not be read.\")\n",
    "    \n",
    "    def display(self):\n",
    "        if self.animalImage is not None:\n",
    "            cv.imshow(self.type, self.animalImage)\n",
    "            cv.waitKey(0)\n",
    "            cv.destroyAllWindows()\n",
    "        else:\n",
    "            raise ValueError(\"No image to display.\")\n",
    "    \n",
    "    def resizeImages(self):\n",
    "        resize = cv.resize(self.animalImage, (128, 128), interpolation=cv.INTER_AREA)\n",
    "        return resize\n",
    "    \n",
    "    def flattenImages(self):\n",
    "        self.animalImage = self.resizeImages()\n",
    "        array = np.array(self.animalImage)\n",
    "        self.vectored = array.flatten()\n",
    "    \n",
    "    def normalizePixels(self):\n",
    "        norm = self.vectored / 255.0\n",
    "        self.vectored = norm\n",
    "        \n",
    "    def getType(self):\n",
    "        return self.type\n",
    "    \n",
    "    def setCluster(self, cluster):\n",
    "        self.clusterAssign = cluster\n",
    "        \n",
    "    def getCluster(self):\n",
    "        return self.clusterAssign\n",
    "    \n",
    "    def setCentroid(self, center):\n",
    "        self.centroidVal = center\n",
    "    \n",
    "    def getCentroid(self):\n",
    "        return self.centroidVal\n",
    "    \n",
    "    def getVectored(self):\n",
    "        return self.vectored"
   ]
  },
  {
   "cell_type": "code",
   "execution_count": 167,
   "metadata": {},
   "outputs": [],
   "source": [
    "class K_MEANS:\n",
    "    def __init__(self):\n",
    "        self.animalList = []\n",
    "        self.path = 'E:\\\\progamming\\\\Machine learning\\\\internship\\\\Clustering\\\\animals\\\\*.jpg'\n",
    "        self.train = []\n",
    "        self.test= []\n",
    "        self.costofClusters = []\n",
    "    \n",
    "    def storeImages(self):\n",
    "        temp = glob.glob(self.path)\n",
    "        for paths in temp:\n",
    "            type = os.path.basename(paths)\n",
    "            ani = animals(paths, type)\n",
    "            ani.readImages()\n",
    "            ani.flattenImages()\n",
    "            ani.normalizePixels()\n",
    "            #print(f\"name: {type}, loc: {paths}\")\n",
    "            self.animalList.append(ani)\n",
    "            \n",
    "        for image in self.animalList:\n",
    "            #image.display() \n",
    "            pass\n",
    "    \n",
    "    def splitData(self):\n",
    "        self.train = np.concatenate((self.animalList[0:10], self.animalList[15:25]), axis=0)\n",
    "        self.test = np.concatenate((self.animalList[10:15], self.animalList[25:30]), axis=0)\n",
    "        \n",
    "        self.train = np.array(self.train)\n",
    "        self.test = np.array(self.test)\n",
    "        \n",
    "        np.random.seed(42)\n",
    "        np.random.shuffle(self.train)\n",
    "        np.random.shuffle(self.test)\n",
    "        \n",
    "        print(f\"Length: {len(self.train)} \\nType: [{[ani.getType() for ani in self.train]}]\\n\")\n",
    "        print(f\"Length: {len(self.test)} \\nType: [{[ani.getType() for ani in self.test]}]\\n\")\n",
    "    \n",
    "    def distance(self, cent, ex):\n",
    "        # dist = ex - cent\n",
    "        # return dist ** 2\n",
    "        return np.linalg.norm(ex - cent) ** 2\n",
    "    \n",
    "    def cost(self, lists):\n",
    "        temp = 0\n",
    "        for ani in lists:\n",
    "            temp = temp + self.distance(ani.getCentroid(), ani.getVectored())\n",
    "            \n",
    "        return temp / len(lists)\n",
    "        \n",
    "    def training(self):\n",
    "        costList = []\n",
    "        np.random.seed(42)\n",
    "        ind = np.random.choice(len(self.train), size=2, replace=False)\n",
    "        centeroid1 = self.train[ind[0]].getVectored()\n",
    "        centeroid2 = self.train[ind[1]].getVectored()\n",
    "        for _ in range(10):\n",
    "            for ani in self.train:\n",
    "                dist1 = self.distance(centeroid1, ani.getVectored())\n",
    "                dist2 = self.distance(centeroid2, ani.getVectored())\n",
    "                if dist1 < dist2:\n",
    "                    ani.setCluster(1)\n",
    "                    ani.setCentroid(centeroid1)\n",
    "                else:\n",
    "                    ani.setCluster(2)\n",
    "                    ani.setCentroid(centeroid2)\n",
    "            \n",
    "            temp1 = temp2 = 0  \n",
    "            num1 = num2 = 0      \n",
    "            for ani in self.train:\n",
    "                if ani.getCluster() == 1:\n",
    "                    temp1 += ani.getVectored()\n",
    "                    num1 += 1\n",
    "                elif ani.getCluster() == 2:\n",
    "                    temp2 += ani.getVectored()\n",
    "                    num2 += 1\n",
    "            if num1 > 0:\n",
    "                temp1 = temp1/num1\n",
    "            if num2 > 0:\n",
    "                temp2 = temp2/num2\n",
    "            \n",
    "            centeroid1 = temp1\n",
    "            centeroid2 = temp2\n",
    "            \n",
    "            costList.append(self.cost(self.train))\n",
    "        \n",
    "        plt.figure(figsize=(10, 5))\n",
    "        plt.plot(costList, label='cost')\n",
    "        plt.xlabel('number')\n",
    "        plt.ylabel('cost')\n",
    "        plt.legend()\n",
    "        plt.show()\n",
    "        print(\"Cost of training set: \", self.cost(self.train))  \n",
    "        \n",
    "        cluster1 = []\n",
    "        cluster2 = []\n",
    "        for ani in self.train:\n",
    "                if ani.getCluster() == 1:\n",
    "                    cluster1.append(ani.getType())\n",
    "                    #print(f\"Cluster 1: {ani.getType()}\")\n",
    "                elif ani.getCluster() == 2:\n",
    "                    cluster2.append(ani.getType())\n",
    "                    #print(f\"Cluster 2: {ani.getType()}\")\n",
    "        \n",
    "        print(f\"Cluster 1: {cluster1}\")\n",
    "        print(f\"Cluster 2: {cluster2}\")\n",
    "        #self.costofClusters.append(self.cost(self.train))\n",
    "    \n",
    "    def testing(self):\n",
    "        centeroid1 = self.train[0].getCentroid()\n",
    "        centeroid2 = self.train[1].getCentroid()\n",
    "        print(f\"Centroid 1: {centeroid1}, Centroid 2: {centeroid2}\")\n",
    "        # Assign clusters to test data\n",
    "        cluster_assignments = []\n",
    "        for ani in self.test:\n",
    "            dist1 = self.distance(centeroid1, ani.getVectored())\n",
    "            dist2 = self.distance(centeroid2, ani.getVectored())\n",
    "            if dist1 < dist2:\n",
    "                ani.setCluster(1)\n",
    "                ani.setCentroid(centeroid1)\n",
    "            else:\n",
    "                ani.setCluster(2)\n",
    "                ani.setCentroid(centeroid2)\n",
    "            cluster_assignments.append(ani.getCluster())\n",
    "        \n",
    "        # Compute cost for test data\n",
    "        test_cost = self.cost(self.test)\n",
    "        print(f\"Cost of test set: {test_cost}\")\n",
    "        \n",
    "        # Optional: Print cluster assignments for test data\n",
    "        cluster1 = [ani.getType() for ani in self.test if ani.getCluster() == 1]\n",
    "        cluster2 = [ani.getType() for ani in self.test if ani.getCluster() == 2]\n",
    "        \n",
    "        print(f\"Cluster 1: {cluster1}\")\n",
    "        print(f\"Cluster 2: {cluster2}\")"
   ]
  },
  {
   "cell_type": "code",
   "execution_count": 168,
   "metadata": {},
   "outputs": [],
   "source": [
    "model = K_MEANS()"
   ]
  },
  {
   "cell_type": "code",
   "execution_count": 169,
   "metadata": {},
   "outputs": [],
   "source": [
    "model.storeImages()"
   ]
  },
  {
   "cell_type": "code",
   "execution_count": 170,
   "metadata": {},
   "outputs": [
    {
     "name": "stdout",
     "output_type": "stream",
     "text": [
      "Length: 20 \n",
      "Type: [['cat1.jpg', 'dog2.jpg', 'dog14.jpg', 'cat10.jpg', 'cat3.jpg', 'cat14.jpg', 'dog10.jpg', 'cat12.jpg', 'dog3.jpg', 'dog15.jpg', 'dog12.jpg', 'cat11.jpg', 'cat4.jpg', 'dog4.jpg', 'cat13.jpg', 'dog11.jpg', 'cat2.jpg', 'dog1.jpg', 'dog13.jpg', 'cat15.jpg']]\n",
      "\n",
      "Length: 10 \n",
      "Type: [['dog5.jpg', 'cat7.jpg', 'dog7.jpg', 'dog6.jpg', 'dog8.jpg', 'dog9.jpg', 'cat8.jpg', 'cat5.jpg', 'cat9.jpg', 'cat6.jpg']]\n",
      "\n"
     ]
    }
   ],
   "source": [
    "model.splitData()"
   ]
  },
  {
   "cell_type": "code",
   "execution_count": 171,
   "metadata": {},
   "outputs": [
    {
     "data": {
      "image/png": "[encoded data removed]",
      "text/plain": [
       "<Figure size 1000x500 with 1 Axes>"
      ]
     },
     "metadata": {},
     "output_type": "display_data"
    },
    {
     "name": "stdout",
     "output_type": "stream",
     "text": [
      "Cost of training set:  2388.9011164616168\n",
      "Cluster 1: ['dog2.jpg', 'dog14.jpg', 'cat14.jpg', 'dog10.jpg', 'dog3.jpg', 'dog15.jpg', 'dog12.jpg', 'cat11.jpg', 'cat4.jpg', 'dog11.jpg', 'cat2.jpg', 'cat15.jpg']\n",
      "Cluster 2: ['cat1.jpg', 'cat10.jpg', 'cat3.jpg', 'cat12.jpg', 'dog4.jpg', 'cat13.jpg', 'dog1.jpg', 'dog13.jpg']\n"
     ]
    }
   ],
   "source": [
    "model.training()"
   ]
  },
  {
   "cell_type": "code",
   "execution_count": 172,
   "metadata": {},
   "outputs": [
    {
     "name": "stdout",
     "output_type": "stream",
     "text": [
      "Centroid 1: [0.72058824 0.70931373 0.67745098 ... 0.62156863 0.65735294 0.6754902 ], Centroid 2: [0.42745098 0.44836601 0.44019608 ... 0.19379085 0.26045752 0.30424837]\n",
      "Cost of test set: 2929.182644266094\n",
      "Cluster 1: ['cat7.jpg', 'dog7.jpg']\n",
      "Cluster 2: ['dog5.jpg', 'dog6.jpg', 'dog8.jpg', 'dog9.jpg', 'cat8.jpg', 'cat5.jpg', 'cat9.jpg', 'cat6.jpg']\n"
     ]
    }
   ],
   "source": [
    "model.testing()"
   ]
  }
 ],
 "metadata": {
  "kernelspec": {
   "display_name": "Python 3",
   "language": "python",
   "name": "python3"
  },
  "language_info": {
   "codemirror_mode": {
    "name": "ipython",
    "version": 3
   },
   "file_extension": ".py",
   "mimetype": "text/x-python",
   "name": "python",
   "nbconvert_exporter": "python",
   "pygments_lexer": "ipython3",
   "version": "3.12.3"
  }
 },
 "nbformat": 4,
 "nbformat_minor": 2
}
