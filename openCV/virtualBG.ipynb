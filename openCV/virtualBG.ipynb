{
 "cells": [
  {
   "cell_type": "code",
   "execution_count": 1,
   "metadata": {},
   "outputs": [],
   "source": [
    "import cv2 as cv\n",
    "import matplotlib.pyplot as plt\n",
    "import numpy as np"
   ]
  },
  {
   "cell_type": "code",
   "execution_count": 2,
   "metadata": {},
   "outputs": [],
   "source": [
    "def resize(dst,img):\n",
    "\twidth = img.shape[1]\n",
    "\theight = img.shape[0]\n",
    "\tdim = (width, height)\n",
    "\tresized = cv.resize(dst, dim, interpolation = cv.INTER_AREA)\n",
    "\treturn resized\n",
    "\n",
    "\n",
    "def liveVideo():\n",
    "    vid = cv.VideoCapture(0)\n",
    "    img = cv.imread('E:\\\\progamming\\\\Machine learning\\\\internship\\\\openCV\\\\ocean.png')\n",
    "\n",
    "    # Create a background subtractor\n",
    "    backSub = cv.createBackgroundSubtractorMOG2(detectShadows=True)\n",
    "\n",
    "    while vid.isOpened():\n",
    "        ret, frame = vid.read()\n",
    "        if not ret:\n",
    "            break\n",
    "\n",
    "        # Flip the frame for mirror effect\n",
    "        frame = cv.flip(frame, 1)\n",
    "\n",
    "        # Resize the background image to match the frame size\n",
    "        bg = resize(img, frame)\n",
    "\n",
    "        # Apply background subtractor to get the foreground mask\n",
    "        fgmask = backSub.apply(frame)\n",
    "\n",
    "        # Create the foreground and background images\n",
    "        fgimg = cv.bitwise_and(frame, frame, mask=fgmask)\n",
    "        bgimg = cv.bitwise_and(bg, bg, mask=cv.bitwise_not(fgmask))\n",
    "\n",
    "        # Combine foreground and background\n",
    "        dst = cv.add(fgimg, bgimg)\n",
    "\n",
    "        cv.imshow('Virtual Background', dst)\n",
    "\n",
    "        if cv.waitKey(1) & 0xFF == ord('q'):\n",
    "            break\n",
    "\n",
    "    vid.release()\n",
    "    cv.destroyAllWindows()\n",
    "\n",
    "liveVideo()"
   ]
  },
  {
   "cell_type": "code",
   "execution_count": 3,
   "metadata": {},
   "outputs": [],
   "source": [
    "# def takePhotos():\n",
    "#     vid = cv.VideoCapture(0)\n",
    "#     ret, frame = vid.read()\n",
    "#     cv.imwrite('E:\\\\progamming\\\\Machine learning\\\\internship\\\\openCV\\\\imagesFromWebCam\\\\webcam1.png', frame)\n",
    "#     vid.release()\n",
    "    \n",
    "# takePhotos()\n",
    "\n",
    "# def liveVideo():\n",
    "#     vid = cv.VideoCapture(0)\n",
    "#     while vid.isOpened():\n",
    "#         ret, frame1 = vid.read()\n",
    "#         frame1 = cv.flip(frame1, 1)\n",
    "#         frame1 = cv.cvtColor(frame1, cv.COLOR_BGR2GRAY)\n",
    "#         cv.imshow('WebCam', frame1)\n",
    "#         if cv.waitKey(1) & 0xFF == ord('q'):\n",
    "#             break\n",
    "#     vid.release()\n",
    "#     cv.destroyAllWindows()\n",
    "    \n",
    "# liveVideo()"
   ]
  }
 ],
 "metadata": {
  "kernelspec": {
   "display_name": "Python 3",
   "language": "python",
   "name": "python3"
  },
  "language_info": {
   "codemirror_mode": {
    "name": "ipython",
    "version": 3
   },
   "file_extension": ".py",
   "mimetype": "text/x-python",
   "name": "python",
   "nbconvert_exporter": "python",
   "pygments_lexer": "ipython3",
   "version": "3.12.3"
  }
 },
 "nbformat": 4,
 "nbformat_minor": 2
}
